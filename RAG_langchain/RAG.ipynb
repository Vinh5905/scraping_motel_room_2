{
 "cells": [
  {
   "cell_type": "code",
   "execution_count": null,
   "id": "bdf9bc54",
   "metadata": {},
   "outputs": [],
   "source": [
    "import getpass\n",
    "import time\n",
    "import os\n",
    "import json\n",
    "import pickle\n",
    "import pandas as pd\n",
    "import numpy as np\n",
    "from langchain.chat_models import init_chat_model\n",
    "from langchain_huggingface import HuggingFaceEmbeddings\n",
    "from langchain.vectorstores import FAISS\n",
    "from langchain_core.documents import Document\n",
    "from langchain_core.prompts import PromptTemplate\n",
    "from langchain_core.messages import SystemMessage, HumanMessage\n",
    "from sklearn.metrics.pairwise import cosine_similarity\n",
    "from langchain_text_splitters import RecursiveCharacterTextSplitter\n"
   ]
  },
  {
   "cell_type": "code",
   "execution_count": 2,
   "id": "a4d98c00",
   "metadata": {},
   "outputs": [],
   "source": [
    "if not os.environ.get(\"TOGETHER_API_KEY\"):\n",
    "    os.environ[\"TOGETHER_API_KEY\"] = getpass.getpass(\"Enter API key for Together AI: \")\n",
    "\n",
    "llm = init_chat_model(\"meta-llama/Llama-3.3-70B-Instruct-Turbo-Free\", model_provider=\"together\")"
   ]
  },
  {
   "cell_type": "code",
   "execution_count": 3,
   "id": "baa743c1",
   "metadata": {},
   "outputs": [
    {
     "name": "stderr",
     "output_type": "stream",
     "text": [
      "/Users/hoangvinh/.pyenv/versions/3.10.6/envs/venv_motel_room/lib/python3.10/site-packages/tqdm/auto.py:21: TqdmWarning: IProgress not found. Please update jupyter and ipywidgets. See https://ipywidgets.readthedocs.io/en/stable/user_install.html\n",
      "  from .autonotebook import tqdm as notebook_tqdm\n"
     ]
    }
   ],
   "source": [
    "embeddings = HuggingFaceEmbeddings(model_name=\"sentence-transformers/all-MiniLM-L6-v2\")"
   ]
  },
  {
   "cell_type": "code",
   "execution_count": 4,
   "id": "b06dffc1",
   "metadata": {},
   "outputs": [
    {
     "data": {
      "text/html": [
       "<div>\n",
       "<style scoped>\n",
       "    .dataframe tbody tr th:only-of-type {\n",
       "        vertical-align: middle;\n",
       "    }\n",
       "\n",
       "    .dataframe tbody tr th {\n",
       "        vertical-align: top;\n",
       "    }\n",
       "\n",
       "    .dataframe thead th {\n",
       "        text-align: right;\n",
       "    }\n",
       "</style>\n",
       "<table border=\"1\" class=\"dataframe\">\n",
       "  <thead>\n",
       "    <tr style=\"text-align: right;\">\n",
       "      <th></th>\n",
       "      <th>merge_file_id</th>\n",
       "      <th>source_post</th>\n",
       "      <th>link</th>\n",
       "      <th>title</th>\n",
       "      <th>price</th>\n",
       "      <th>area</th>\n",
       "      <th>describe</th>\n",
       "      <th>address</th>\n",
       "      <th>province_city</th>\n",
       "      <th>district</th>\n",
       "      <th>ward</th>\n",
       "      <th>street</th>\n",
       "      <th>house_number</th>\n",
       "    </tr>\n",
       "  </thead>\n",
       "  <tbody>\n",
       "    <tr>\n",
       "      <th>0</th>\n",
       "      <td>p1-l0_20250320-000509</td>\n",
       "      <td>batdongsan</td>\n",
       "      <td>https://batdongsan.com.vn/cho-thue-nha-tro-pho...</td>\n",
       "      <td>Khai trương phòng Nguyễn Duy Trinh giá 3tr8.Ch...</td>\n",
       "      <td>3.8</td>\n",
       "      <td>22.0</td>\n",
       "      <td>\\n                Phòng cho thuê tại Quận 2, H...</td>\n",
       "      <td>Đường Nguyễn Duy Trinh, Phường Bình Trưng Đông...</td>\n",
       "      <td>Hồ Chí Minh</td>\n",
       "      <td>Thủ Đức</td>\n",
       "      <td>Bình Trưng Đông</td>\n",
       "      <td>Đường Nguyễn Duy Trinh</td>\n",
       "      <td>NaN</td>\n",
       "    </tr>\n",
       "    <tr>\n",
       "      <th>1</th>\n",
       "      <td>p1-l10_20250320-000536</td>\n",
       "      <td>batdongsan</td>\n",
       "      <td>https://batdongsan.com.vn/cho-thue-nha-tro-pho...</td>\n",
       "      <td>\\n                    Chính chủ cho thuê phòng...</td>\n",
       "      <td>5.9</td>\n",
       "      <td>35.0</td>\n",
       "      <td>\\n                    Phòng trọ nằm ở 15B/105 ...</td>\n",
       "      <td>15B/105 Đường Lê Thánh Tôn, Phường Bến Nghé, Q...</td>\n",
       "      <td>Hồ Chí Minh</td>\n",
       "      <td>1</td>\n",
       "      <td>Bến Nghé</td>\n",
       "      <td>15B/105 Đường Lê Thánh Tôn</td>\n",
       "      <td>NaN</td>\n",
       "    </tr>\n",
       "    <tr>\n",
       "      <th>2</th>\n",
       "      <td>p1-l11_20250320-000536</td>\n",
       "      <td>batdongsan</td>\n",
       "      <td>https://batdongsan.com.vn/cho-thue-nha-tro-pho...</td>\n",
       "      <td>\\n                    Khai trương CHDV full nộ...</td>\n",
       "      <td>7.0</td>\n",
       "      <td>40.0</td>\n",
       "      <td>\\n                    Tô Hiến Thành, P13, Q10....</td>\n",
       "      <td>Đường Tô Hiến Thành, Phường 13, Quận 10, Hồ Ch...</td>\n",
       "      <td>Hồ Chí Minh</td>\n",
       "      <td>10</td>\n",
       "      <td>13</td>\n",
       "      <td>Đường Tô Hiến Thành</td>\n",
       "      <td>NaN</td>\n",
       "    </tr>\n",
       "  </tbody>\n",
       "</table>\n",
       "</div>"
      ],
      "text/plain": [
       "            merge_file_id source_post  \\\n",
       "0   p1-l0_20250320-000509  batdongsan   \n",
       "1  p1-l10_20250320-000536  batdongsan   \n",
       "2  p1-l11_20250320-000536  batdongsan   \n",
       "\n",
       "                                                link  \\\n",
       "0  https://batdongsan.com.vn/cho-thue-nha-tro-pho...   \n",
       "1  https://batdongsan.com.vn/cho-thue-nha-tro-pho...   \n",
       "2  https://batdongsan.com.vn/cho-thue-nha-tro-pho...   \n",
       "\n",
       "                                               title  price  area  \\\n",
       "0  Khai trương phòng Nguyễn Duy Trinh giá 3tr8.Ch...    3.8  22.0   \n",
       "1  \\n                    Chính chủ cho thuê phòng...    5.9  35.0   \n",
       "2  \\n                    Khai trương CHDV full nộ...    7.0  40.0   \n",
       "\n",
       "                                            describe  \\\n",
       "0  \\n                Phòng cho thuê tại Quận 2, H...   \n",
       "1  \\n                    Phòng trọ nằm ở 15B/105 ...   \n",
       "2  \\n                    Tô Hiến Thành, P13, Q10....   \n",
       "\n",
       "                                             address province_city district  \\\n",
       "0  Đường Nguyễn Duy Trinh, Phường Bình Trưng Đông...   Hồ Chí Minh  Thủ Đức   \n",
       "1  15B/105 Đường Lê Thánh Tôn, Phường Bến Nghé, Q...   Hồ Chí Minh        1   \n",
       "2  Đường Tô Hiến Thành, Phường 13, Quận 10, Hồ Ch...   Hồ Chí Minh       10   \n",
       "\n",
       "              ward                      street house_number  \n",
       "0  Bình Trưng Đông      Đường Nguyễn Duy Trinh          NaN  \n",
       "1         Bến Nghé  15B/105 Đường Lê Thánh Tôn          NaN  \n",
       "2               13         Đường Tô Hiến Thành          NaN  "
      ]
     },
     "execution_count": 4,
     "metadata": {},
     "output_type": "execute_result"
    }
   ],
   "source": [
    "all_data = pd.read_csv('../EDA/final_data.csv')\n",
    "all_data.head(3)"
   ]
  },
  {
   "cell_type": "code",
   "execution_count": 5,
   "id": "39875fc0",
   "metadata": {},
   "outputs": [],
   "source": [
    "data_dict = all_data.to_dict(orient='records')"
   ]
  },
  {
   "cell_type": "code",
   "execution_count": null,
   "id": "597b8cd4",
   "metadata": {},
   "outputs": [],
   "source": [
    "data_text_dict = {}\n",
    "for data in data_dict:\n",
    "    data_text_dict[data[\"merge_file_id\"]] = json.dumps(\n",
    "        obj={\n",
    "            \"id\": data[\"merge_file_id\"],\n",
    "            \"address\": data[\"address\"],\n",
    "            \"area\": data[\"area\"],\n",
    "            \"price\": data[\"price\"],\n",
    "            \"describe\": data[\"describe\"]\n",
    "        }, \n",
    "        ensure_ascii=False\n",
    "    )\n",
    "\n",
    "documents = []\n",
    "for id, data_text in data_text_dict.items():\n",
    "    documents.append(\n",
    "        Document(\n",
    "            page_content=data_text,\n",
    "            metadata={'id': id}\n",
    "        )\n",
    "    )"
   ]
  },
  {
   "cell_type": "code",
   "execution_count": 37,
   "id": "bd9dc5c8",
   "metadata": {},
   "outputs": [],
   "source": [
    "data_text_df = pd.DataFrame(list(data_text_dict.items()), columns=['id', 'text'])\n",
    "data_text_df.to_csv('data_text.csv', index=False)"
   ]
  },
  {
   "cell_type": "code",
   "execution_count": 7,
   "id": "07070050",
   "metadata": {},
   "outputs": [],
   "source": [
    "text_splitter = RecursiveCharacterTextSplitter(\n",
    "    separators=[\".\", \"!\", \"?\", \",\", \"\\n\", \"\\n\\n\"],\n",
    "    chunk_size=100,\n",
    "    chunk_overlap=50\n",
    ")\n",
    "all_splits = text_splitter.split_documents(documents)"
   ]
  },
  {
   "cell_type": "code",
   "execution_count": 9,
   "id": "62f458b6",
   "metadata": {},
   "outputs": [],
   "source": [
    "# Tạo FAISS index\n",
    "vector_store = FAISS.from_documents(all_splits, embeddings)"
   ]
  },
  {
   "cell_type": "code",
   "execution_count": 10,
   "id": "7fc28e8a",
   "metadata": {},
   "outputs": [],
   "source": [
    "with open('vector_store.pkl', 'wb') as file:\n",
    "    pickle.dump(vector_store, file)"
   ]
  },
  {
   "cell_type": "code",
   "execution_count": 11,
   "id": "23bb006a",
   "metadata": {},
   "outputs": [],
   "source": [
    "query = 'Căn trọ cho nuôi chó mèo'"
   ]
  },
  {
   "cell_type": "code",
   "execution_count": 12,
   "id": "63b0655c",
   "metadata": {},
   "outputs": [],
   "source": [
    "results = vector_store.similarity_search(query, k=20)"
   ]
  },
  {
   "cell_type": "code",
   "execution_count": null,
   "id": "cae93222",
   "metadata": {},
   "outputs": [
    {
     "data": {
      "text/plain": [
       "['p74-l1_20250321-114439',\n",
       " 'p197-l12_20250404-173602',\n",
       " 'p33-l2_20250320-175230',\n",
       " 'p5-l7_20250320-011409',\n",
       " 'p73-l11_20250321-114439',\n",
       " 'p6-l1_20250320-172724',\n",
       " 'p1-l4_20250320-000536',\n",
       " 'p28-l14_20250320-175230',\n",
       " 'p34-l1_20250320-175230',\n",
       " 'p88-l5_20250321-120549',\n",
       " 'p69-l10_20250404-160805',\n",
       " 'p135-l0_20250404-172843',\n",
       " 'p32-l14_20250320-175230',\n",
       " 'p40-l11_20250321-080639',\n",
       " 'p2-l2_20250320-011409',\n",
       " 'p50-l14_20250321-091109',\n",
       " 'p37-l14_20250320-175230',\n",
       " 'p37-l7_20250320-175230',\n",
       " 'p31-l12_20250320-175230',\n",
       " 'p25-l4_20250320-175230']"
      ]
     },
     "execution_count": 22,
     "metadata": {},
     "output_type": "execute_result"
    }
   ],
   "source": [
    "result_ids = [doc.metadata['id'] for doc in results]"
   ]
  },
  {
   "cell_type": "code",
   "execution_count": 24,
   "id": "f8d57b5c",
   "metadata": {},
   "outputs": [],
   "source": [
    "system_prompt = \"\"\"Bạn là một trợ lý tìm kiếm bất động sản.\n",
    "Sử dụng thông tin dưới đây (dạng JSON) để trả lời câu hỏi ngắn gọn dưới 3 câu.\n",
    "Nếu có thể, tạo một list ID các mã như [\"id1\", \"id2\", ...].\n",
    "Nếu không tìm thấy thông tin liên quan, hãy trả lời [].\n",
    "\n",
    "Thông tin:\\n{retrieved_text}\"\"\"\n",
    "\n",
    "custom_rag_prompt = PromptTemplate.from_template(system_prompt)"
   ]
  },
  {
   "cell_type": "code",
   "execution_count": null,
   "id": "b5431e6f",
   "metadata": {},
   "outputs": [],
   "source": [
    "result_data_text = data_text.loc[data_text['id'].isin(result_ids), 'text'].to_list()\n",
    "retrieved_text = \",\\n\".join(result_data_text)\n",
    "formatted_prompt = custom_rag_prompt.format(retrieved_text=retrieved_text)"
   ]
  },
  {
   "cell_type": "code",
   "execution_count": 26,
   "id": "63043aab",
   "metadata": {},
   "outputs": [],
   "source": [
    "final_answer = llm.invoke([\n",
    "    SystemMessage(content=formatted_prompt),\n",
    "    HumanMessage(content=query)\n",
    "])"
   ]
  },
  {
   "cell_type": "code",
   "execution_count": 29,
   "id": "af2580c9",
   "metadata": {},
   "outputs": [],
   "source": [
    "filter_ids = json.loads(final_answer.content)"
   ]
  },
  {
   "cell_type": "code",
   "execution_count": 30,
   "id": "e7e9fa43",
   "metadata": {},
   "outputs": [
    {
     "data": {
      "text/plain": [
       "['https://batdongsan.com.vn/cho-thue-nha-tro-phong-tro-duong-tran-van-hoang-phuong-9-13/cho-gia-re-gan-cu-xa-bac-hai-ly-thuong-kiet-q10-full-noi-that-mien-phi-2-xe-pr42428058',\n",
       " 'https://batdongsan.com.vn/cho-thue-nha-tro-phong-tro-duong-so-38-phuong-hiep-binh-chanh/cho-full-noi-that-ngay-pham-van-dong-gan-gigamall-linh-dong-cau-loi-pr42068180',\n",
       " 'https://thuviennhadat.vn/nha-dat-thue-chi-tiet/can-ho-full-noi-that-ban-cong-mat-truoc-gan-dh-cong-thuong-go-truong-chinh-18711.html',\n",
       " 'https://thuviennhadat.vn/nha-dat-thue-chi-tiet/cho-thue-phong-sinh-vien-moi-xay-ngay-co-so-iuh-moi-nguyen-van-dung-17407.html',\n",
       " 'https://thuviennhadat.vn/nha-dat-thue-chi-tiet/cho-thue-phong-ban-cong-35m2-duong-hoang-sa-phuong-vo-thi-sau-quan-3-gia-5-900-000-vnd-21019.html',\n",
       " 'https://www.nhatot.com/thue-phong-tro-quan-4-tp-ho-chi-minh/123630625.htm']"
      ]
     },
     "execution_count": 30,
     "metadata": {},
     "output_type": "execute_result"
    }
   ],
   "source": [
    "all_data.loc[all_data['merge_file_id'].isin(filter_ids), 'link'].to_list()"
   ]
  }
 ],
 "metadata": {
  "kernelspec": {
   "display_name": "venv_motel_room",
   "language": "python",
   "name": "python3"
  },
  "language_info": {
   "codemirror_mode": {
    "name": "ipython",
    "version": 3
   },
   "file_extension": ".py",
   "mimetype": "text/x-python",
   "name": "python",
   "nbconvert_exporter": "python",
   "pygments_lexer": "ipython3",
   "version": "3.10.6"
  }
 },
 "nbformat": 4,
 "nbformat_minor": 5
}
